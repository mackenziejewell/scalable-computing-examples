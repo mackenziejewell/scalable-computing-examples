{
 "cells": [
  {
   "cell_type": "markdown",
   "id": "49175f80",
   "metadata": {},
   "source": [
    "# Software design 1"
   ]
  },
  {
   "cell_type": "code",
   "execution_count": null,
   "id": "04a94d1c",
   "metadata": {},
   "outputs": [
    {
     "name": "stdout",
     "output_type": "stream",
     "text": [
      "<function double at 0x7f226a723d00>\n"
     ]
    }
   ],
   "source": [
    "# functions are objects in memory\n",
    "def double(x):\n",
    "    return 2*x\n",
    "\n",
    "# this fn. is stored at loc 0x7f226a7235b0 (or similiar) in local memory\n",
    "print(double)\n"
   ]
  },
  {
   "cell_type": "code",
   "execution_count": null,
   "id": "14dbdd02",
   "metadata": {},
   "outputs": [
    {
     "name": "stdout",
     "output_type": "stream",
     "text": [
      "<class 'function'>\n",
      "<function double at 0x7f226a723d00>\n"
     ]
    }
   ],
   "source": [
    "# we can assign a new name to this same function\n",
    "# and it wil point to the same location in memory\n",
    "twotimes = double\n",
    "print(type(twotimes))\n",
    "print(twotimes)"
   ]
  },
  {
   "cell_type": "code",
   "execution_count": null,
   "id": "908a24d9",
   "metadata": {},
   "outputs": [
    {
     "name": "stdout",
     "output_type": "stream",
     "text": [
      "34\n",
      "34\n",
      "True\n"
     ]
    }
   ],
   "source": [
    "print(double(17))\n",
    "print(twotimes(17))\n",
    "print(twotimes(5) == double(5))"
   ]
  },
  {
   "cell_type": "code",
   "execution_count": 9,
   "id": "132270c7",
   "metadata": {},
   "outputs": [
    {
     "data": {
      "text/plain": [
       "[4, 6, 8]"
      ]
     },
     "execution_count": 9,
     "metadata": {},
     "output_type": "execute_result"
    }
   ],
   "source": [
    "\n",
    "# using parentheses with the function, like: twotimes()\n",
    "# this says to execute the function\n",
    "\n",
    "# or we can use map and instead padd\n",
    "# the function as its object in memory to map\n",
    "\n",
    "list(map(twotimes, [2,3,4]))"
   ]
  },
  {
   "cell_type": "code",
   "execution_count": 16,
   "id": "56fff011",
   "metadata": {},
   "outputs": [
    {
     "name": "stdout",
     "output_type": "stream",
     "text": [
      "Ran wrapper...\n",
      "Ran some function\n",
      "Finished wrapper.\n"
     ]
    }
   ],
   "source": [
    "def some_function():\n",
    "    print(\"Ran some function\")\n",
    "\n",
    "def wrapper(func_to_run):\n",
    "    print('Ran wrapper...')\n",
    "    func_to_run()\n",
    "    print('Finished wrapper.')\n",
    "\n",
    "wrapper(some_function)"
   ]
  },
  {
   "cell_type": "code",
   "execution_count": 78,
   "id": "33312aa4",
   "metadata": {},
   "outputs": [
    {
     "name": "stdout",
     "output_type": "stream",
     "text": [
      "Started wrapper...\n",
      "Ran some function\n",
      "Finished wrapper.\n"
     ]
    }
   ],
   "source": [
    "def my_decorator(func_to_run):\n",
    "    def wrapper():\n",
    "        print(\"Started wrapper...\")\n",
    "        func_to_run()\n",
    "        print(\"Finished wrapper.\")\n",
    "    return wrapper\n",
    "\n",
    "f = my_decorator(some_function)\n",
    "\n",
    "f()"
   ]
  },
  {
   "cell_type": "code",
   "execution_count": 25,
   "id": "8ede1b14",
   "metadata": {},
   "outputs": [
    {
     "name": "stdout",
     "output_type": "stream",
     "text": [
      "Started wrapper...\n",
      "Hello\n",
      "\n",
      "Finished wrapper.\n"
     ]
    }
   ],
   "source": [
    "@my_decorator\n",
    "def hello():\n",
    "    print(\"Hello\")\n",
    "    print()\n",
    "\n",
    "hello()"
   ]
  },
  {
   "cell_type": "code",
   "execution_count": 21,
   "id": "495bfaa6",
   "metadata": {},
   "outputs": [
    {
     "name": "stdout",
     "output_type": "stream",
     "text": [
      "Started wrapper...\n",
      "Ran some function\n",
      "Finished wrapper.\n"
     ]
    }
   ],
   "source": [
    "f()"
   ]
  },
  {
   "cell_type": "markdown",
   "id": "97f2ea3b",
   "metadata": {},
   "source": [
    "### Global variables\n",
    "Note the difference between what is assigned globally as x in these two cases"
   ]
  },
  {
   "cell_type": "code",
   "execution_count": 39,
   "id": "6f99cb26",
   "metadata": {},
   "outputs": [
    {
     "name": "stdout",
     "output_type": "stream",
     "text": [
      "5\n"
     ]
    }
   ],
   "source": [
    "def do_task():\n",
    "    x = 10 # x is assigned as 10, but only locally\n",
    "\n",
    "x = 5\n",
    "do_task()\n",
    "print(x)"
   ]
  },
  {
   "cell_type": "code",
   "execution_count": 40,
   "id": "0223ce67",
   "metadata": {},
   "outputs": [
    {
     "name": "stdout",
     "output_type": "stream",
     "text": [
      "10\n"
     ]
    }
   ],
   "source": [
    "def do_task():\n",
    "    global x # with this, we declare this as global (DON'T DO THIS!)\n",
    "    x = 10\n",
    "\n",
    "\n",
    "x = 5\n",
    "do_task()\n",
    "print(x)"
   ]
  },
  {
   "cell_type": "code",
   "execution_count": 41,
   "id": "4a6aa111",
   "metadata": {},
   "outputs": [
    {
     "data": {
      "text/plain": [
       "18"
      ]
     },
     "execution_count": 41,
     "metadata": {},
     "output_type": "execute_result"
    }
   ],
   "source": [
    "a = 3\n",
    "def do_stuff(b):\n",
    "    return b*a\n",
    "\n",
    "do_stuff(6)"
   ]
  },
  {
   "cell_type": "code",
   "execution_count": 44,
   "id": "5bb6eb2f",
   "metadata": {},
   "outputs": [],
   "source": [
    "from datetime import datetime"
   ]
  },
  {
   "cell_type": "code",
   "execution_count": 45,
   "id": "917b3028",
   "metadata": {},
   "outputs": [
    {
     "data": {
      "text/plain": [
       "datetime.datetime(2025, 4, 9, 16, 16, 29, 342024)"
      ]
     },
     "execution_count": 45,
     "metadata": {},
     "output_type": "execute_result"
    }
   ],
   "source": [
    "datetime.now()"
   ]
  },
  {
   "cell_type": "code",
   "execution_count": 73,
   "id": "aa211f23",
   "metadata": {},
   "outputs": [],
   "source": [
    "def time_this(other_func):\n",
    "    start = time.time()\n",
    "    other_func()\n",
    "    print(f'>>> runtime: {time.time()-start}')\n"
   ]
  },
  {
   "cell_type": "code",
   "execution_count": null,
   "id": "804e9453",
   "metadata": {},
   "outputs": [
    {
     "ename": "TypeError",
     "evalue": "time_this() missing 1 required positional argument: 'x'",
     "output_type": "error",
     "traceback": [
      "\u001b[0;31m---------------------------------------------------------------------------\u001b[0m",
      "\u001b[0;31mTypeError\u001b[0m                                 Traceback (most recent call last)",
      "Cell \u001b[0;32mIn[72], line 1\u001b[0m\n\u001b[0;32m----> 1\u001b[0m \u001b[38;5;129m@time_this\u001b[39m\u001b[43m(\u001b[49m\u001b[43mx\u001b[49m\u001b[43m)\u001b[49m\n\u001b[1;32m      2\u001b[0m \u001b[38;5;28;01mdef\u001b[39;00m\u001b[38;5;250m \u001b[39m\u001b[38;5;21mprint_thing\u001b[39m(x):\n\u001b[1;32m      3\u001b[0m     \u001b[38;5;28mprint\u001b[39m(\u001b[38;5;124m'\u001b[39m\u001b[38;5;124mhi\u001b[39m\u001b[38;5;124m'\u001b[39m)\n\u001b[1;32m      4\u001b[0m     \u001b[38;5;28mprint\u001b[39m(x)\n",
      "\u001b[0;31mTypeError\u001b[0m: time_this() missing 1 required positional argument: 'x'"
     ]
    }
   ],
   "source": [
    "@time_this\n",
    "def print_thing(x):\n",
    "    print('hi')\n",
    "    print(x)\n"
   ]
  },
  {
   "cell_type": "code",
   "execution_count": 65,
   "id": "5822fc3d",
   "metadata": {},
   "outputs": [],
   "source": [
    "from concurrent.futures import ProcessPoolExecutor\n",
    "import time"
   ]
  },
  {
   "cell_type": "code",
   "execution_count": null,
   "id": "5b88f7db",
   "metadata": {},
   "outputs": [
    {
     "name": "stdout",
     "output_type": "stream",
     "text": [
      "102  Hello Hello\n",
      "Hello1\n",
      " \n",
      "0world2\n",
      "  worldworld\n",
      "\n"
     ]
    }
   ],
   "source": [
    "# this is weird because they are using a shared resource\n",
    "def hello(i):\n",
    "    print(i, 'Hello')\n",
    "    print(i, 'world')\n",
    "\n",
    "executor = ProcessPoolExecutor()\n",
    "futures = [executor.submit(hello, i) for i in range(3)]\n",
    "\n",
    "for future in futures:\n",
    "    future.result()"
   ]
  },
  {
   "cell_type": "code",
   "execution_count": 68,
   "id": "ecbb6ca8",
   "metadata": {},
   "outputs": [
    {
     "name": "stdout",
     "output_type": "stream",
     "text": [
      "1 Hello\n",
      "1 world\n",
      "0 Hello\n",
      "0 world\n",
      "2 Hello\n",
      "2 world\n"
     ]
    }
   ],
   "source": [
    "# we can use a lock \n",
    "\n",
    "import multiprocessing\n",
    "\n",
    "def hello(i, lock):\n",
    "    # now wait to execute below until it is handed control of this lock\n",
    "    # then once we're back outside of the with block, then the lock is releaseds\n",
    "    with lock: \n",
    "        print(i, 'Hello')\n",
    "        print(i, 'world')\n",
    "\n",
    "lock = multiprocessing.Manager().Lock()\n",
    "executor = ProcessPoolExecutor()\n",
    "futures = [executor.submit(hello, i, lock) for i in range(3)]\n",
    "\n",
    "for future in futures:\n",
    "    future.result()"
   ]
  },
  {
   "cell_type": "code",
   "execution_count": null,
   "id": "5afd7367",
   "metadata": {},
   "outputs": [],
   "source": []
  }
 ],
 "metadata": {
  "kernelspec": {
   "display_name": "scomp",
   "language": "python",
   "name": "python3"
  },
  "language_info": {
   "codemirror_mode": {
    "name": "ipython",
    "version": 3
   },
   "file_extension": ".py",
   "mimetype": "text/x-python",
   "name": "python",
   "nbconvert_exporter": "python",
   "pygments_lexer": "ipython3",
   "version": "3.10.12"
  }
 },
 "nbformat": 4,
 "nbformat_minor": 5
}
